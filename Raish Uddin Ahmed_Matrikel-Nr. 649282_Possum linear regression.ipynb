{
 "cells": [
  {
   "cell_type": "markdown",
   "id": "bc6fc1a9",
   "metadata": {},
   "source": [
    "## In this notebook linear regression was used to depict the relation between the variables - head length (dependent variable) with skull width, tail length, eye, chest, belly and total length."
   ]
  },
  {
   "cell_type": "markdown",
   "id": "ae160aa9",
   "metadata": {},
   "source": [
    "## Importing the module"
   ]
  },
  {
   "cell_type": "code",
   "execution_count": 1,
   "id": "453367a2",
   "metadata": {},
   "outputs": [],
   "source": [
    "import pandas as pd\n",
    "import numpy as np\n",
    "from numpy import math\n",
    "from sklearn.preprocessing import MinMaxScaler\n",
    "from sklearn.model_selection import train_test_split\n",
    "from sklearn.linear_model import LinearRegression\n",
    "from sklearn import linear_model\n",
    "from sklearn.metrics import mean_squared_error\n",
    "from sklearn.metrics import r2_score\n",
    "import matplotlib.pyplot as plt"
   ]
  },
  {
   "cell_type": "markdown",
   "id": "b67f0ad9",
   "metadata": {},
   "source": [
    "## Loading the csv file\n"
   ]
  },
  {
   "cell_type": "code",
   "execution_count": 4,
   "id": "35e7e1f7",
   "metadata": {},
   "outputs": [],
   "source": [
    "data = pd.read_csv(\"possum.csv\")"
   ]
  },
  {
   "cell_type": "code",
   "execution_count": 5,
   "id": "d7cc7ea5",
   "metadata": {},
   "outputs": [
    {
     "data": {
      "text/html": [
       "<div>\n",
       "<style scoped>\n",
       "    .dataframe tbody tr th:only-of-type {\n",
       "        vertical-align: middle;\n",
       "    }\n",
       "\n",
       "    .dataframe tbody tr th {\n",
       "        vertical-align: top;\n",
       "    }\n",
       "\n",
       "    .dataframe thead th {\n",
       "        text-align: right;\n",
       "    }\n",
       "</style>\n",
       "<table border=\"1\" class=\"dataframe\">\n",
       "  <thead>\n",
       "    <tr style=\"text-align: right;\">\n",
       "      <th></th>\n",
       "      <th>case</th>\n",
       "      <th>site</th>\n",
       "      <th>Pop</th>\n",
       "      <th>sex</th>\n",
       "      <th>age</th>\n",
       "      <th>hdlngth</th>\n",
       "      <th>skullw</th>\n",
       "      <th>totlngth</th>\n",
       "      <th>taill</th>\n",
       "      <th>footlgth</th>\n",
       "      <th>earconch</th>\n",
       "      <th>eye</th>\n",
       "      <th>chest</th>\n",
       "      <th>belly</th>\n",
       "    </tr>\n",
       "  </thead>\n",
       "  <tbody>\n",
       "    <tr>\n",
       "      <th>0</th>\n",
       "      <td>1</td>\n",
       "      <td>1</td>\n",
       "      <td>Vic</td>\n",
       "      <td>m</td>\n",
       "      <td>8.0</td>\n",
       "      <td>94.1</td>\n",
       "      <td>60.4</td>\n",
       "      <td>89.0</td>\n",
       "      <td>36.0</td>\n",
       "      <td>74.5</td>\n",
       "      <td>54.5</td>\n",
       "      <td>15.2</td>\n",
       "      <td>28.0</td>\n",
       "      <td>36.0</td>\n",
       "    </tr>\n",
       "    <tr>\n",
       "      <th>1</th>\n",
       "      <td>2</td>\n",
       "      <td>1</td>\n",
       "      <td>Vic</td>\n",
       "      <td>f</td>\n",
       "      <td>6.0</td>\n",
       "      <td>92.5</td>\n",
       "      <td>57.6</td>\n",
       "      <td>91.5</td>\n",
       "      <td>36.5</td>\n",
       "      <td>72.5</td>\n",
       "      <td>51.2</td>\n",
       "      <td>16.0</td>\n",
       "      <td>28.5</td>\n",
       "      <td>33.0</td>\n",
       "    </tr>\n",
       "    <tr>\n",
       "      <th>2</th>\n",
       "      <td>3</td>\n",
       "      <td>1</td>\n",
       "      <td>Vic</td>\n",
       "      <td>f</td>\n",
       "      <td>6.0</td>\n",
       "      <td>94.0</td>\n",
       "      <td>60.0</td>\n",
       "      <td>95.5</td>\n",
       "      <td>39.0</td>\n",
       "      <td>75.4</td>\n",
       "      <td>51.9</td>\n",
       "      <td>15.5</td>\n",
       "      <td>30.0</td>\n",
       "      <td>34.0</td>\n",
       "    </tr>\n",
       "    <tr>\n",
       "      <th>3</th>\n",
       "      <td>4</td>\n",
       "      <td>1</td>\n",
       "      <td>Vic</td>\n",
       "      <td>f</td>\n",
       "      <td>6.0</td>\n",
       "      <td>93.2</td>\n",
       "      <td>57.1</td>\n",
       "      <td>92.0</td>\n",
       "      <td>38.0</td>\n",
       "      <td>76.1</td>\n",
       "      <td>52.2</td>\n",
       "      <td>15.2</td>\n",
       "      <td>28.0</td>\n",
       "      <td>34.0</td>\n",
       "    </tr>\n",
       "    <tr>\n",
       "      <th>4</th>\n",
       "      <td>5</td>\n",
       "      <td>1</td>\n",
       "      <td>Vic</td>\n",
       "      <td>f</td>\n",
       "      <td>2.0</td>\n",
       "      <td>91.5</td>\n",
       "      <td>56.3</td>\n",
       "      <td>85.5</td>\n",
       "      <td>36.0</td>\n",
       "      <td>71.0</td>\n",
       "      <td>53.2</td>\n",
       "      <td>15.1</td>\n",
       "      <td>28.5</td>\n",
       "      <td>33.0</td>\n",
       "    </tr>\n",
       "  </tbody>\n",
       "</table>\n",
       "</div>"
      ],
      "text/plain": [
       "   case  site  Pop sex  age  hdlngth  skullw  totlngth  taill  footlgth  \\\n",
       "0     1     1  Vic   m  8.0     94.1    60.4      89.0   36.0      74.5   \n",
       "1     2     1  Vic   f  6.0     92.5    57.6      91.5   36.5      72.5   \n",
       "2     3     1  Vic   f  6.0     94.0    60.0      95.5   39.0      75.4   \n",
       "3     4     1  Vic   f  6.0     93.2    57.1      92.0   38.0      76.1   \n",
       "4     5     1  Vic   f  2.0     91.5    56.3      85.5   36.0      71.0   \n",
       "\n",
       "   earconch   eye  chest  belly  \n",
       "0      54.5  15.2   28.0   36.0  \n",
       "1      51.2  16.0   28.5   33.0  \n",
       "2      51.9  15.5   30.0   34.0  \n",
       "3      52.2  15.2   28.0   34.0  \n",
       "4      53.2  15.1   28.5   33.0  "
      ]
     },
     "execution_count": 5,
     "metadata": {},
     "output_type": "execute_result"
    }
   ],
   "source": [
    "data.head()"
   ]
  },
  {
   "cell_type": "markdown",
   "id": "81ab741e",
   "metadata": {},
   "source": [
    "## Finding the correlation between the dependent variable and the independent variables"
   ]
  },
  {
   "cell_type": "code",
   "execution_count": 9,
   "id": "5c472051",
   "metadata": {},
   "outputs": [
    {
     "data": {
      "text/html": [
       "<div>\n",
       "<style scoped>\n",
       "    .dataframe tbody tr th:only-of-type {\n",
       "        vertical-align: middle;\n",
       "    }\n",
       "\n",
       "    .dataframe tbody tr th {\n",
       "        vertical-align: top;\n",
       "    }\n",
       "\n",
       "    .dataframe thead th {\n",
       "        text-align: right;\n",
       "    }\n",
       "</style>\n",
       "<table border=\"1\" class=\"dataframe\">\n",
       "  <thead>\n",
       "    <tr style=\"text-align: right;\">\n",
       "      <th></th>\n",
       "      <th>case</th>\n",
       "      <th>site</th>\n",
       "      <th>age</th>\n",
       "      <th>hdlngth</th>\n",
       "      <th>skullw</th>\n",
       "      <th>totlngth</th>\n",
       "      <th>taill</th>\n",
       "      <th>footlgth</th>\n",
       "      <th>earconch</th>\n",
       "      <th>eye</th>\n",
       "      <th>chest</th>\n",
       "      <th>belly</th>\n",
       "    </tr>\n",
       "  </thead>\n",
       "  <tbody>\n",
       "    <tr>\n",
       "      <th>case</th>\n",
       "      <td>1.000000</td>\n",
       "      <td>0.970353</td>\n",
       "      <td>-0.194525</td>\n",
       "      <td>-0.209177</td>\n",
       "      <td>-0.125065</td>\n",
       "      <td>-0.334329</td>\n",
       "      <td>0.315351</td>\n",
       "      <td>-0.782368</td>\n",
       "      <td>-0.773727</td>\n",
       "      <td>-0.084078</td>\n",
       "      <td>-0.402303</td>\n",
       "      <td>-0.211671</td>\n",
       "    </tr>\n",
       "    <tr>\n",
       "      <th>site</th>\n",
       "      <td>0.970353</td>\n",
       "      <td>1.000000</td>\n",
       "      <td>-0.131423</td>\n",
       "      <td>-0.163646</td>\n",
       "      <td>-0.083548</td>\n",
       "      <td>-0.260843</td>\n",
       "      <td>0.380444</td>\n",
       "      <td>-0.783009</td>\n",
       "      <td>-0.790716</td>\n",
       "      <td>-0.036987</td>\n",
       "      <td>-0.345494</td>\n",
       "      <td>-0.175266</td>\n",
       "    </tr>\n",
       "    <tr>\n",
       "      <th>age</th>\n",
       "      <td>-0.194525</td>\n",
       "      <td>-0.131423</td>\n",
       "      <td>1.000000</td>\n",
       "      <td>0.319022</td>\n",
       "      <td>0.285107</td>\n",
       "      <td>0.260280</td>\n",
       "      <td>0.118241</td>\n",
       "      <td>0.126190</td>\n",
       "      <td>0.053405</td>\n",
       "      <td>0.235553</td>\n",
       "      <td>0.334209</td>\n",
       "      <td>0.354298</td>\n",
       "    </tr>\n",
       "    <tr>\n",
       "      <th>hdlngth</th>\n",
       "      <td>-0.209177</td>\n",
       "      <td>-0.163646</td>\n",
       "      <td>0.319022</td>\n",
       "      <td>1.000000</td>\n",
       "      <td>0.710827</td>\n",
       "      <td>0.691094</td>\n",
       "      <td>0.287429</td>\n",
       "      <td>0.391605</td>\n",
       "      <td>0.121463</td>\n",
       "      <td>0.347175</td>\n",
       "      <td>0.631498</td>\n",
       "      <td>0.562663</td>\n",
       "    </tr>\n",
       "    <tr>\n",
       "      <th>skullw</th>\n",
       "      <td>-0.125065</td>\n",
       "      <td>-0.083548</td>\n",
       "      <td>0.285107</td>\n",
       "      <td>0.710827</td>\n",
       "      <td>1.000000</td>\n",
       "      <td>0.526413</td>\n",
       "      <td>0.255921</td>\n",
       "      <td>0.275059</td>\n",
       "      <td>-0.000537</td>\n",
       "      <td>0.321991</td>\n",
       "      <td>0.629737</td>\n",
       "      <td>0.451838</td>\n",
       "    </tr>\n",
       "    <tr>\n",
       "      <th>totlngth</th>\n",
       "      <td>-0.334329</td>\n",
       "      <td>-0.260843</td>\n",
       "      <td>0.260280</td>\n",
       "      <td>0.691094</td>\n",
       "      <td>0.526413</td>\n",
       "      <td>1.000000</td>\n",
       "      <td>0.565646</td>\n",
       "      <td>0.444832</td>\n",
       "      <td>0.154484</td>\n",
       "      <td>0.247786</td>\n",
       "      <td>0.577890</td>\n",
       "      <td>0.519465</td>\n",
       "    </tr>\n",
       "    <tr>\n",
       "      <th>taill</th>\n",
       "      <td>0.315351</td>\n",
       "      <td>0.380444</td>\n",
       "      <td>0.118241</td>\n",
       "      <td>0.287429</td>\n",
       "      <td>0.255921</td>\n",
       "      <td>0.565646</td>\n",
       "      <td>1.000000</td>\n",
       "      <td>-0.126277</td>\n",
       "      <td>-0.385136</td>\n",
       "      <td>0.198134</td>\n",
       "      <td>0.174997</td>\n",
       "      <td>0.294493</td>\n",
       "    </tr>\n",
       "    <tr>\n",
       "      <th>footlgth</th>\n",
       "      <td>-0.782368</td>\n",
       "      <td>-0.783009</td>\n",
       "      <td>0.126190</td>\n",
       "      <td>0.391605</td>\n",
       "      <td>0.275059</td>\n",
       "      <td>0.444832</td>\n",
       "      <td>-0.126277</td>\n",
       "      <td>1.000000</td>\n",
       "      <td>0.783050</td>\n",
       "      <td>0.005213</td>\n",
       "      <td>0.450590</td>\n",
       "      <td>0.302584</td>\n",
       "    </tr>\n",
       "    <tr>\n",
       "      <th>earconch</th>\n",
       "      <td>-0.773727</td>\n",
       "      <td>-0.790716</td>\n",
       "      <td>0.053405</td>\n",
       "      <td>0.121463</td>\n",
       "      <td>-0.000537</td>\n",
       "      <td>0.154484</td>\n",
       "      <td>-0.385136</td>\n",
       "      <td>0.783050</td>\n",
       "      <td>1.000000</td>\n",
       "      <td>-0.165092</td>\n",
       "      <td>0.199230</td>\n",
       "      <td>0.066527</td>\n",
       "    </tr>\n",
       "    <tr>\n",
       "      <th>eye</th>\n",
       "      <td>-0.084078</td>\n",
       "      <td>-0.036987</td>\n",
       "      <td>0.235553</td>\n",
       "      <td>0.347175</td>\n",
       "      <td>0.321991</td>\n",
       "      <td>0.247786</td>\n",
       "      <td>0.198134</td>\n",
       "      <td>0.005213</td>\n",
       "      <td>-0.165092</td>\n",
       "      <td>1.000000</td>\n",
       "      <td>0.149338</td>\n",
       "      <td>0.235716</td>\n",
       "    </tr>\n",
       "    <tr>\n",
       "      <th>chest</th>\n",
       "      <td>-0.402303</td>\n",
       "      <td>-0.345494</td>\n",
       "      <td>0.334209</td>\n",
       "      <td>0.631498</td>\n",
       "      <td>0.629737</td>\n",
       "      <td>0.577890</td>\n",
       "      <td>0.174997</td>\n",
       "      <td>0.450590</td>\n",
       "      <td>0.199230</td>\n",
       "      <td>0.149338</td>\n",
       "      <td>1.000000</td>\n",
       "      <td>0.606170</td>\n",
       "    </tr>\n",
       "    <tr>\n",
       "      <th>belly</th>\n",
       "      <td>-0.211671</td>\n",
       "      <td>-0.175266</td>\n",
       "      <td>0.354298</td>\n",
       "      <td>0.562663</td>\n",
       "      <td>0.451838</td>\n",
       "      <td>0.519465</td>\n",
       "      <td>0.294493</td>\n",
       "      <td>0.302584</td>\n",
       "      <td>0.066527</td>\n",
       "      <td>0.235716</td>\n",
       "      <td>0.606170</td>\n",
       "      <td>1.000000</td>\n",
       "    </tr>\n",
       "  </tbody>\n",
       "</table>\n",
       "</div>"
      ],
      "text/plain": [
       "              case      site       age   hdlngth    skullw  totlngth  \\\n",
       "case      1.000000  0.970353 -0.194525 -0.209177 -0.125065 -0.334329   \n",
       "site      0.970353  1.000000 -0.131423 -0.163646 -0.083548 -0.260843   \n",
       "age      -0.194525 -0.131423  1.000000  0.319022  0.285107  0.260280   \n",
       "hdlngth  -0.209177 -0.163646  0.319022  1.000000  0.710827  0.691094   \n",
       "skullw   -0.125065 -0.083548  0.285107  0.710827  1.000000  0.526413   \n",
       "totlngth -0.334329 -0.260843  0.260280  0.691094  0.526413  1.000000   \n",
       "taill     0.315351  0.380444  0.118241  0.287429  0.255921  0.565646   \n",
       "footlgth -0.782368 -0.783009  0.126190  0.391605  0.275059  0.444832   \n",
       "earconch -0.773727 -0.790716  0.053405  0.121463 -0.000537  0.154484   \n",
       "eye      -0.084078 -0.036987  0.235553  0.347175  0.321991  0.247786   \n",
       "chest    -0.402303 -0.345494  0.334209  0.631498  0.629737  0.577890   \n",
       "belly    -0.211671 -0.175266  0.354298  0.562663  0.451838  0.519465   \n",
       "\n",
       "             taill  footlgth  earconch       eye     chest     belly  \n",
       "case      0.315351 -0.782368 -0.773727 -0.084078 -0.402303 -0.211671  \n",
       "site      0.380444 -0.783009 -0.790716 -0.036987 -0.345494 -0.175266  \n",
       "age       0.118241  0.126190  0.053405  0.235553  0.334209  0.354298  \n",
       "hdlngth   0.287429  0.391605  0.121463  0.347175  0.631498  0.562663  \n",
       "skullw    0.255921  0.275059 -0.000537  0.321991  0.629737  0.451838  \n",
       "totlngth  0.565646  0.444832  0.154484  0.247786  0.577890  0.519465  \n",
       "taill     1.000000 -0.126277 -0.385136  0.198134  0.174997  0.294493  \n",
       "footlgth -0.126277  1.000000  0.783050  0.005213  0.450590  0.302584  \n",
       "earconch -0.385136  0.783050  1.000000 -0.165092  0.199230  0.066527  \n",
       "eye       0.198134  0.005213 -0.165092  1.000000  0.149338  0.235716  \n",
       "chest     0.174997  0.450590  0.199230  0.149338  1.000000  0.606170  \n",
       "belly     0.294493  0.302584  0.066527  0.235716  0.606170  1.000000  "
      ]
     },
     "execution_count": 9,
     "metadata": {},
     "output_type": "execute_result"
    }
   ],
   "source": [
    "data.corr()"
   ]
  },
  {
   "cell_type": "markdown",
   "id": "988a1b24",
   "metadata": {},
   "source": [
    "## Importing the datas to a list\n"
   ]
  },
  {
   "cell_type": "code",
   "execution_count": 74,
   "id": "be416838",
   "metadata": {},
   "outputs": [
    {
     "name": "stdout",
     "output_type": "stream",
     "text": [
      "['case', 'site', 'Pop', 'sex', 'age', 'hdlngth', 'skullw', 'totlngth', 'taill', 'footlgth', 'earconch', 'eye', 'chest', 'belly']\n"
     ]
    }
   ],
   "source": [
    "x=data.columns.tolist()\n",
    "y=\"hdlngth\"\n",
    "print(x)"
   ]
  },
  {
   "cell_type": "markdown",
   "id": "bad3db4c",
   "metadata": {},
   "source": [
    "## Removing the independent variables from the list which do not have good correlation with the dependent variable. Also removing the dependent variable from the list so that it does not compare with itself."
   ]
  },
  {
   "cell_type": "code",
   "execution_count": 75,
   "id": "3a2ab668",
   "metadata": {},
   "outputs": [],
   "source": [
    "x.remove(\"case\")\n",
    "x.remove(\"site\")\n",
    "x.remove(\"Pop\")\n",
    "x.remove(\"sex\")\n",
    "x.remove(\"age\")\n",
    "x.remove(\"hdlngth\")\n",
    "#x.remove(\"taill\")\n",
    "x.remove(\"footlgth\")\n",
    "x.remove(\"earconch\")\n",
    "#x.remove(\"eye\")\n",
    "#x.remove(\"chest\")\n",
    "#x.remove(\"belly\")"
   ]
  },
  {
   "cell_type": "code",
   "execution_count": 76,
   "id": "0d579e5e",
   "metadata": {},
   "outputs": [
    {
     "name": "stdout",
     "output_type": "stream",
     "text": [
      "['skullw', 'totlngth', 'taill', 'eye', 'chest', 'belly']\n"
     ]
    }
   ],
   "source": [
    "print(x)"
   ]
  },
  {
   "cell_type": "markdown",
   "id": "94f770bc",
   "metadata": {},
   "source": [
    "## Importing the values of the independent variables and the dependent variable to the variables x1 and y1 respectively."
   ]
  },
  {
   "cell_type": "code",
   "execution_count": 77,
   "id": "aef5f258",
   "metadata": {},
   "outputs": [],
   "source": [
    "x1=data[x].values\n",
    "y1=data[y].values"
   ]
  },
  {
   "cell_type": "markdown",
   "id": "5c3463bf",
   "metadata": {},
   "source": [
    "## Splitting the datas into training (80% of total datas) and testing (20% of total datas) sections."
   ]
  },
  {
   "cell_type": "code",
   "execution_count": 78,
   "id": "0d5f1901",
   "metadata": {},
   "outputs": [],
   "source": [
    "x1_train,x1_test,y1_train,y1_test=train_test_split(x1,y1,test_size=0.2,random_state=0)"
   ]
  },
  {
   "cell_type": "markdown",
   "id": "ac506150",
   "metadata": {},
   "source": [
    "## MinMaxScaler() function is used to transform the data in the range of 0 to 1 "
   ]
  },
  {
   "cell_type": "code",
   "execution_count": 79,
   "id": "cde8836f",
   "metadata": {},
   "outputs": [],
   "source": [
    "scaler=MinMaxScaler()\n",
    "x1_train=scaler.fit_transform(x1_train)\n",
    "x1_test=scaler.transform(x1_test)"
   ]
  },
  {
   "cell_type": "markdown",
   "id": "5045fc75",
   "metadata": {},
   "source": [
    "## Finding the linear regression\n"
   ]
  },
  {
   "cell_type": "code",
   "execution_count": 80,
   "id": "c3b82fb2",
   "metadata": {},
   "outputs": [
    {
     "data": {
      "text/html": [
       "<style>#sk-container-id-5 {color: black;background-color: white;}#sk-container-id-5 pre{padding: 0;}#sk-container-id-5 div.sk-toggleable {background-color: white;}#sk-container-id-5 label.sk-toggleable__label {cursor: pointer;display: block;width: 100%;margin-bottom: 0;padding: 0.3em;box-sizing: border-box;text-align: center;}#sk-container-id-5 label.sk-toggleable__label-arrow:before {content: \"▸\";float: left;margin-right: 0.25em;color: #696969;}#sk-container-id-5 label.sk-toggleable__label-arrow:hover:before {color: black;}#sk-container-id-5 div.sk-estimator:hover label.sk-toggleable__label-arrow:before {color: black;}#sk-container-id-5 div.sk-toggleable__content {max-height: 0;max-width: 0;overflow: hidden;text-align: left;background-color: #f0f8ff;}#sk-container-id-5 div.sk-toggleable__content pre {margin: 0.2em;color: black;border-radius: 0.25em;background-color: #f0f8ff;}#sk-container-id-5 input.sk-toggleable__control:checked~div.sk-toggleable__content {max-height: 200px;max-width: 100%;overflow: auto;}#sk-container-id-5 input.sk-toggleable__control:checked~label.sk-toggleable__label-arrow:before {content: \"▾\";}#sk-container-id-5 div.sk-estimator input.sk-toggleable__control:checked~label.sk-toggleable__label {background-color: #d4ebff;}#sk-container-id-5 div.sk-label input.sk-toggleable__control:checked~label.sk-toggleable__label {background-color: #d4ebff;}#sk-container-id-5 input.sk-hidden--visually {border: 0;clip: rect(1px 1px 1px 1px);clip: rect(1px, 1px, 1px, 1px);height: 1px;margin: -1px;overflow: hidden;padding: 0;position: absolute;width: 1px;}#sk-container-id-5 div.sk-estimator {font-family: monospace;background-color: #f0f8ff;border: 1px dotted black;border-radius: 0.25em;box-sizing: border-box;margin-bottom: 0.5em;}#sk-container-id-5 div.sk-estimator:hover {background-color: #d4ebff;}#sk-container-id-5 div.sk-parallel-item::after {content: \"\";width: 100%;border-bottom: 1px solid gray;flex-grow: 1;}#sk-container-id-5 div.sk-label:hover label.sk-toggleable__label {background-color: #d4ebff;}#sk-container-id-5 div.sk-serial::before {content: \"\";position: absolute;border-left: 1px solid gray;box-sizing: border-box;top: 0;bottom: 0;left: 50%;z-index: 0;}#sk-container-id-5 div.sk-serial {display: flex;flex-direction: column;align-items: center;background-color: white;padding-right: 0.2em;padding-left: 0.2em;position: relative;}#sk-container-id-5 div.sk-item {position: relative;z-index: 1;}#sk-container-id-5 div.sk-parallel {display: flex;align-items: stretch;justify-content: center;background-color: white;position: relative;}#sk-container-id-5 div.sk-item::before, #sk-container-id-5 div.sk-parallel-item::before {content: \"\";position: absolute;border-left: 1px solid gray;box-sizing: border-box;top: 0;bottom: 0;left: 50%;z-index: -1;}#sk-container-id-5 div.sk-parallel-item {display: flex;flex-direction: column;z-index: 1;position: relative;background-color: white;}#sk-container-id-5 div.sk-parallel-item:first-child::after {align-self: flex-end;width: 50%;}#sk-container-id-5 div.sk-parallel-item:last-child::after {align-self: flex-start;width: 50%;}#sk-container-id-5 div.sk-parallel-item:only-child::after {width: 0;}#sk-container-id-5 div.sk-dashed-wrapped {border: 1px dashed gray;margin: 0 0.4em 0.5em 0.4em;box-sizing: border-box;padding-bottom: 0.4em;background-color: white;}#sk-container-id-5 div.sk-label label {font-family: monospace;font-weight: bold;display: inline-block;line-height: 1.2em;}#sk-container-id-5 div.sk-label-container {text-align: center;}#sk-container-id-5 div.sk-container {/* jupyter's `normalize.less` sets `[hidden] { display: none; }` but bootstrap.min.css set `[hidden] { display: none !important; }` so we also need the `!important` here to be able to override the default hidden behavior on the sphinx rendered scikit-learn.org. See: https://github.com/scikit-learn/scikit-learn/issues/21755 */display: inline-block !important;position: relative;}#sk-container-id-5 div.sk-text-repr-fallback {display: none;}</style><div id=\"sk-container-id-5\" class=\"sk-top-container\"><div class=\"sk-text-repr-fallback\"><pre>LinearRegression()</pre><b>In a Jupyter environment, please rerun this cell to show the HTML representation or trust the notebook. <br />On GitHub, the HTML representation is unable to render, please try loading this page with nbviewer.org.</b></div><div class=\"sk-container\" hidden><div class=\"sk-item\"><div class=\"sk-estimator sk-toggleable\"><input class=\"sk-toggleable__control sk-hidden--visually\" id=\"sk-estimator-id-5\" type=\"checkbox\" checked><label for=\"sk-estimator-id-5\" class=\"sk-toggleable__label sk-toggleable__label-arrow\">LinearRegression</label><div class=\"sk-toggleable__content\"><pre>LinearRegression()</pre></div></div></div></div></div>"
      ],
      "text/plain": [
       "LinearRegression()"
      ]
     },
     "execution_count": 80,
     "metadata": {},
     "output_type": "execute_result"
    }
   ],
   "source": [
    "regression=LinearRegression()\n",
    "regression.fit(x1_train,y1_train)"
   ]
  },
  {
   "cell_type": "markdown",
   "id": "3c0d08f9",
   "metadata": {},
   "source": [
    "## Predicting the dependent variable (price) from the test section of the independent variables."
   ]
  },
  {
   "cell_type": "code",
   "execution_count": 81,
   "id": "b071b5c0",
   "metadata": {},
   "outputs": [],
   "source": [
    "y1_prediction=regression.predict(x1_test)"
   ]
  },
  {
   "cell_type": "markdown",
   "id": "7abcc601",
   "metadata": {},
   "source": [
    "## Finding the Root Mean Squared Error in predicted price. "
   ]
  },
  {
   "cell_type": "code",
   "execution_count": 82,
   "id": "c9db9bd6",
   "metadata": {},
   "outputs": [
    {
     "data": {
      "text/plain": [
       "1.6487078611162824"
      ]
     },
     "execution_count": 82,
     "metadata": {},
     "output_type": "execute_result"
    }
   ],
   "source": [
    "math.sqrt(mean_squared_error(y1_test,y1_prediction))"
   ]
  },
  {
   "cell_type": "markdown",
   "id": "7a8c794a",
   "metadata": {},
   "source": [
    "## Finding the R^2 value."
   ]
  },
  {
   "cell_type": "code",
   "execution_count": 83,
   "id": "9c427659",
   "metadata": {},
   "outputs": [
    {
     "data": {
      "text/plain": [
       "0.662706025158632"
      ]
     },
     "execution_count": 83,
     "metadata": {},
     "output_type": "execute_result"
    }
   ],
   "source": [
    "r2_score(y1_test,y1_prediction)"
   ]
  },
  {
   "cell_type": "markdown",
   "id": "824ccd91",
   "metadata": {},
   "source": [
    "## Plooting the graph between the predicted head length and the test section of the actual values of the head length."
   ]
  },
  {
   "cell_type": "code",
   "execution_count": 84,
   "id": "e8e5b60c",
   "metadata": {},
   "outputs": [
    {
     "data": {
      "text/plain": [
       "[<matplotlib.lines.Line2D at 0x23e76adccd0>]"
      ]
     },
     "execution_count": 84,
     "metadata": {},
     "output_type": "execute_result"
    },
    {
     "data": {
      "image/png": "[encoded data removed]",
      "text/plain": [
       "<Figure size 432x288 with 1 Axes>"
      ]
     },
     "metadata": {
      "needs_background": "light"
     },
     "output_type": "display_data"
    }
   ],
   "source": [
    "plt.scatter(y1_test,y1_prediction)\n",
    "plt.plot([min(y1_test),max(y1_test)],[min(y1_prediction),max(y1_prediction)],color=\"red\")"
   ]
  },
  {
   "cell_type": "markdown",
   "id": "aac22bae",
   "metadata": {},
   "source": [
    "## First the correlation between the dependent variable and the independent variables are checked and the ones which have higher correlation are considered and others are droped. After predicting the dependent variables the R^2 value between the predicted values and the original values was found which appeared to be around 66%.  So, finally it can be concluded that the head length of a possum can be predicted to some extent if we know the considered independent variables."
   ]
  },
  {
   "cell_type": "markdown",
   "id": "e9ad8a51",
   "metadata": {},
   "source": [
    "### Reference: 1. Notebooks provided by Prof. Dr. Christina B. Claß.\n"
   ]
  }
 ],
 "metadata": {
  "kernelspec": {
   "display_name": "Python 3 (ipykernel)",
   "language": "python",
   "name": "python3"
  },
  "language_info": {
   "codemirror_mode": {
    "name": "ipython",
    "version": 3
   },
   "file_extension": ".py",
   "mimetype": "text/x-python",
   "name": "python",
   "nbconvert_exporter": "python",
   "pygments_lexer": "ipython3",
   "version": "3.9.12"
  }
 },
 "nbformat": 4,
 "nbformat_minor": 5
}
